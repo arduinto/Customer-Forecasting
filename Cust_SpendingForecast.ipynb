{
 "cells": [
  {
   "cell_type": "markdown",
   "metadata": {},
   "source": [
    "#### __Problem Statement__\n",
    "The company is tryng to decide whether to focus their efforts on their mobile app experience or their website"
   ]
  },
  {
   "cell_type": "code",
   "execution_count": 1,
   "id": "01HXV3NSBB72KVD7380W1TB8QJ",
   "metadata": {},
   "outputs": [],
   "source": [
    "import pandas as pd\n",
    "import numpy as np\n",
    "import plotly.express as px\n",
    "from plotly.offline import iplot\n",
    "\n",
    "from sklearn import linear_model \n",
    "from sklearn.metrics import mean_absolute_error, r2_score\n",
    "from sklearn.model_selection import train_test_split, KFold, cross_val_score\n",
    "\n",
    "\n",
    "import warnings\n",
    "\n",
    "pd.set_option('future.no_silent_downcasting', True)\n",
    "pd.options.mode.copy_on_write = \"warn\""
   ]
  },
  {
   "cell_type": "markdown",
   "metadata": {},
   "source": [
    "### __About Dataset__\n",
    "* `Avatar`: This column represent a Avatar Color chosen by the customer.¶\n",
    "* `Avg. Session Length`: the average duration of sessions (in Minutes) of Mobile and Website.\n",
    "* `Time on App`: the total amount of time (in Minutes) that a customer spends using the mobile App application.\n",
    "* `Time on Website`: the total amount of time (in minutes) that a customer spends on the website.\n",
    "* `Length of Membership`: the duration of membership or loyalty of each customer (in Months)\n",
    "* `Yearly Amount Spent`:the total amount of money spent by each customer on the company's products Via an year."
   ]
  },
  {
   "cell_type": "code",
   "execution_count": null,
   "id": "01HXV3P0SY68C3QR5RHX4S4E05",
   "metadata": {},
   "outputs": [],
   "source": []
  }
 ],
 "metadata": {
  "kernelspec": {
   "display_name": "Python 3",
   "language": "python",
   "name": "python3"
  },
  "language_info": {
   "codemirror_mode": {
    "name": "ipython",
    "version": 3
   },
   "file_extension": ".py",
   "mimetype": "text/x-python",
   "name": "python",
   "nbconvert_exporter": "python",
   "pygments_lexer": "ipython3",
   "version": "3.11.7"
  }
 },
 "nbformat": 4,
 "nbformat_minor": 2
}
