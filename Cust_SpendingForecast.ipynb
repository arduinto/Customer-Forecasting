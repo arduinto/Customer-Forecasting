{
 "cells": [
  {
   "cell_type": "markdown",
   "metadata": {},
   "source": [
    "#### __Problem Statement__\n",
    "The company is tryng to decide whether to focus their efforts on their mobile app experience or their website"
   ]
  },
  {
   "cell_type": "code",
   "execution_count": null,
   "id": "01HXV3NSBB72KVD7380W1TB8QJ",
   "metadata": {},
   "outputs": [],
   "source": [
    "import pandas as pd\n",
    "import numpy as np\n",
    "import plotly.express as px\n",
    "from plotly.offline import iplot\n",
    "\n",
    "from sklearn import linear_model \n",
    "from sklearn.metrics import mean_absolute_error, r2_score\n",
    "from sklearn.model_selection import train_test_split, KFold, cross_val_score\n",
    "\n",
    "\n",
    "import warnings\n",
    "\n",
    "pd.set_option('future.no_silent_downcasting', True)\n",
    "pd.options.mode.copy_on_write = \"warn\""
   ]
  },
  {
   "cell_type": "markdown",
   "metadata": {},
   "source": [
    "### __About Dataset__\n",
    "* `Avatar`: This column represent a Avatar Color chosen by the customer.¶\n",
    "* `Avg. Session Length`: the average duration of sessions (in Minutes) of Mobile and Website.\n",
    "* `Time on App`: the total amount of time (in Minutes) that a customer spends using the mobile App application.\n",
    "* `Time on Website`: the total amount of time (in minutes) that a customer spends on the website.\n",
    "* `Length of Membership`: the duration of membership or loyalty of each customer (in Months)\n",
    "* `Yearly Amount Spent`:the total amount of money spent by each customer on the company's products Via an year."
   ]
  },
  {
   "cell_type": "code",
   "execution_count": null,
   "id": "01HXV3P0SY68C3QR5RHX4S4E05",
   "metadata": {},
   "outputs": [],
   "source": [
    "df = pd.read_csv('./Ecommerce Customers.csv')"
   ]
  },
  {
   "cell_type": "code",
   "execution_count": null,
   "id": "01HXX5B329Z3MZB6V6BKH0W3P0",
   "metadata": {},
   "outputs": [],
   "source": [
    "df.info()"
   ]
  },
  {
   "cell_type": "code",
   "execution_count": null,
   "id": "01HXX5BPSK016GXMJZATP940KV",
   "metadata": {},
   "outputs": [],
   "source": [
    "df.sample(5, random_state=5)"
   ]
  },
  {
   "cell_type": "markdown",
   "metadata": {},
   "source": [
    "__We can see that users spend more time on the website than on the mobile app__\n",
    "\n",
    "__Hipothesis : We can say that he more time users spend on the website, the more money they spend throughout the year. But we need to figure it out on that Hipothesis__"
   ]
  },
  {
   "cell_type": "markdown",
   "metadata": {},
   "source": [
    "### __Data Cleaning & Wrangling__"
   ]
  },
  {
   "cell_type": "code",
   "execution_count": null,
   "id": "01HXX6Y4S2B4E55KPBBS3JGCHD",
   "metadata": {},
   "outputs": [],
   "source": [
    "# Describe Categorical Data\n",
    "df.select_dtypes(include='object').describe()"
   ]
  },
  {
   "cell_type": "code",
   "execution_count": null,
   "id": "01HXX6Z0VKVTG6RYR25FG79H85",
   "metadata": {},
   "outputs": [],
   "source": [
    "# Describe Numerical Data\n",
    "np.round(df.describe().T, 2)"
   ]
  },
  {
   "cell_type": "code",
   "execution_count": null,
   "id": "01HXX7Q2T5AH32VTAW8BNAWMZX",
   "metadata": {},
   "outputs": [],
   "source": [
    "# Clean the columns' name from any spaces\n",
    "df.columns = df.columns.str.replace(' ', '_').str.replace('.','')"
   ]
  },
  {
   "cell_type": "code",
   "execution_count": null,
   "id": "01HXX7X01F6V1HBZ3XEG45QA52",
   "metadata": {},
   "outputs": [],
   "source": [
    "df.rename(columns={\n",
    "    'Time_on_App':'App_Usage',\n",
    "    'Time_on_Website' : 'Website_Usage',\n",
    "    'Length_of_Membership' : 'Membership_Length',\n",
    "    'Yearly_Amount_Spent' : 'Yearly_Spent'}, inplace=True)"
   ]
  },
  {
   "cell_type": "code",
   "execution_count": null,
   "id": "01HXX800W1HQRMN0M3MC47BNP0",
   "metadata": {},
   "outputs": [],
   "source": [
    "df.head()"
   ]
  },
  {
   "cell_type": "markdown",
   "metadata": {},
   "source": [
    "### __Correlation Heatmap & Charts__"
   ]
  },
  {
   "cell_type": "code",
   "execution_count": null,
   "id": "01HXX8KG0FBWB5GHDPBMTG7K59",
   "metadata": {},
   "outputs": [],
   "source": [
    "corr = df.corr(numeric_only=True)\n",
    "\n",
    "fig = px.imshow(\n",
    "    corr,\n",
    "    template='plotly_dark',\n",
    "    text_auto='0.2f',\n",
    "    aspect=1,\n",
    "    color_continuous_scale='orrd',\n",
    "    title= 'Correlation Between Data'\n",
    ")\n",
    "\n",
    "fig.update_traces(\n",
    "    textfont = {\n",
    "        'size' : 16,\n",
    "        'family' : 'consolas'\n",
    "    }\n",
    ")\n",
    "\n",
    "fig.update_layout(\n",
    "    title = {\n",
    "        'font' : {\n",
    "            'size' : 28,\n",
    "            'family' : '<b>poppins'\n",
    "        }\n",
    "    }\n",
    ")\n",
    "iplot(fig)"
   ]
  },
  {
   "cell_type": "code",
   "execution_count": null,
   "id": "01HXX8M3PTMTX8GN0CXRT2PNG3",
   "metadata": {},
   "outputs": [],
   "source": [
    "import plotly.graph_objects as go\n",
    "\n",
    "fig = px.scatter_matrix(\n",
    "    df,\n",
    "    dimensions= df.select_dtypes(include='number').columns,\n",
    "    height=950,\n",
    "    color='Yearly_Spent',\n",
    "    opacity= .70,\n",
    "    title= 'Relationships Between Numerical Data',\n",
    "    template= 'plotly_dark',\n",
    "    labels={'xtickangle': 90},\n",
    ")\n",
    "\n",
    "fig.update_layout(\n",
    "    title= {\n",
    "        'font' : {\n",
    "            'size' : 28,\n",
    "            'family' : '<b>poppins'\n",
    "        }\n",
    "    }\n",
    ")\n",
    "\n",
    "fig.update_layout(\n",
    "    title_xanchor='right'\n",
    ")\n",
    "iplot(fig)"
   ]
  },
  {
   "cell_type": "markdown",
   "metadata": {},
   "source": []
  }
 ],
 "metadata": {
  "kernelspec": {
   "display_name": "Python 3",
   "language": "python",
   "name": "python3"
  },
  "language_info": {
   "codemirror_mode": {
    "name": "ipython",
    "version": 3
   },
   "file_extension": ".py",
   "mimetype": "text/x-python",
   "name": "python",
   "nbconvert_exporter": "python",
   "pygments_lexer": "ipython3",
   "version": "3.11.7"
  }
 },
 "nbformat": 4,
 "nbformat_minor": 2
}
