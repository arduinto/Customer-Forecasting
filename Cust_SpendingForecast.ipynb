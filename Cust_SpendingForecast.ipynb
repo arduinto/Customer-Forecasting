{
 "cells": [
  {
   "cell_type": "markdown",
   "metadata": {},
   "source": [
    "#### __Problem Statement__\n",
    "The company is tryng to decide whether to focus their efforts on their mobile app experience or their website"
   ]
  },
  {
   "cell_type": "code",
   "execution_count": null,
   "id": "01HXV3NSBB72KVD7380W1TB8QJ",
   "metadata": {},
   "outputs": [],
   "source": [
    "import pandas as pd\n",
    "import numpy as np\n",
    "import plotly.express as px\n",
    "from plotly.offline import iplot\n",
    "\n",
    "from sklearn import linear_model \n",
    "from sklearn.metrics import mean_absolute_error, r2_score\n",
    "from sklearn.model_selection import train_test_split, KFold, cross_val_score\n",
    "\n",
    "\n",
    "import warnings\n",
    "\n",
    "pd.set_option('future.no_silent_downcasting', True)\n",
    "pd.options.mode.copy_on_write = \"warn\""
   ]
  },
  {
   "cell_type": "markdown",
   "metadata": {},
   "source": [
    "### __About Dataset__\n",
    "* `Avatar`: This column represent a Avatar Color chosen by the customer.¶\n",
    "* `Avg. Session Length`: the average duration of sessions (in Minutes) of Mobile and Website.\n",
    "* `Time on App`: the total amount of time (in Minutes) that a customer spends using the mobile App application.\n",
    "* `Time on Website`: the total amount of time (in minutes) that a customer spends on the website.\n",
    "* `Length of Membership`: the duration of membership or loyalty of each customer (in Months)\n",
    "* `Yearly Amount Spent`:the total amount of money spent by each customer on the company's products Via an year."
   ]
  },
  {
   "cell_type": "code",
   "execution_count": null,
   "id": "01HXV3P0SY68C3QR5RHX4S4E05",
   "metadata": {},
   "outputs": [],
   "source": [
    "df = pd.read_csv('./Ecommerce Customers.csv')"
   ]
  },
  {
   "cell_type": "code",
   "execution_count": null,
   "id": "01HXX5B329Z3MZB6V6BKH0W3P0",
   "metadata": {},
   "outputs": [],
   "source": [
    "df.info()"
   ]
  },
  {
   "cell_type": "code",
   "execution_count": null,
   "id": "01HXX5BPSK016GXMJZATP940KV",
   "metadata": {},
   "outputs": [],
   "source": [
    "df.sample(5, random_state=5)"
   ]
  },
  {
   "cell_type": "markdown",
   "metadata": {},
   "source": [
    "__We can see that users spend more time on the website than on the mobile app__\n",
    "\n",
    "__Hipothesis : We can say that he more time users spend on the website, the more money they spend throughout the year. But we need to figure it out on that Hipothesis__"
   ]
  },
  {
   "cell_type": "markdown",
   "metadata": {},
   "source": [
    "### __Data Cleaning & Wrangling__"
   ]
  },
  {
   "cell_type": "code",
   "execution_count": null,
   "id": "01HXX6Y4S2B4E55KPBBS3JGCHD",
   "metadata": {},
   "outputs": [],
   "source": [
    "# Describe Categorical Data\n",
    "df.select_dtypes(include='object').describe()"
   ]
  },
  {
   "cell_type": "code",
   "execution_count": null,
   "id": "01HXX6Z0VKVTG6RYR25FG79H85",
   "metadata": {},
   "outputs": [],
   "source": [
    "# Describe Numerical Data\n",
    "np.round(df.describe().T, 2)"
   ]
  },
  {
   "cell_type": "code",
   "execution_count": null,
   "id": "01HXX7Q2T5AH32VTAW8BNAWMZX",
   "metadata": {},
   "outputs": [],
   "source": [
    "# Clean the columns' name from any spaces\n",
    "df.columns = df.columns.str.replace(' ', '_').str.replace('.','')"
   ]
  },
  {
   "cell_type": "code",
   "execution_count": null,
   "id": "01HXX7X01F6V1HBZ3XEG45QA52",
   "metadata": {},
   "outputs": [],
   "source": [
    "df.rename(columns={\n",
    "    'Time_on_App':'App_Usage',\n",
    "    'Time_on_Website' : 'Website_Usage',\n",
    "    'Length_of_Membership' : 'Membership_Length',\n",
    "    'Yearly_Amount_Spent' : 'Yearly_Spent'}, inplace=True)"
   ]
  },
  {
   "cell_type": "code",
   "execution_count": null,
   "id": "01HXX800W1HQRMN0M3MC47BNP0",
   "metadata": {},
   "outputs": [],
   "source": [
    "df.head()"
   ]
  },
  {
   "cell_type": "markdown",
   "metadata": {},
   "source": [
    "### __Correlation Heatmap & Charts__"
   ]
  },
  {
   "cell_type": "code",
   "execution_count": null,
   "id": "01HXX8KG0FBWB5GHDPBMTG7K59",
   "metadata": {},
   "outputs": [],
   "source": [
    "corr = df.corr(numeric_only=True)\n",
    "\n",
    "fig = px.imshow(\n",
    "    corr,\n",
    "    template='plotly_dark',\n",
    "    text_auto='0.2f',\n",
    "    aspect=1,\n",
    "    color_continuous_scale='orrd',\n",
    "    title= 'Correlation Between Data'\n",
    ")\n",
    "\n",
    "fig.update_traces(\n",
    "    textfont = {\n",
    "        'size' : 16,\n",
    "        'family' : 'consolas'\n",
    "    }\n",
    ")\n",
    "\n",
    "fig.update_layout(\n",
    "    title = {\n",
    "        'font' : {\n",
    "            'size' : 28,\n",
    "            'family' : '<b>poppins'\n",
    "        }\n",
    "    }\n",
    ")\n",
    "iplot(fig)"
   ]
  },
  {
   "cell_type": "code",
   "execution_count": null,
   "id": "01HXX8M3PTMTX8GN0CXRT2PNG3",
   "metadata": {},
   "outputs": [],
   "source": [
    "import plotly.graph_objects as go\n",
    "\n",
    "fig = px.scatter_matrix(\n",
    "    df,\n",
    "    dimensions= df.select_dtypes(include='number').columns,\n",
    "    height=950,\n",
    "    width=900,\n",
    "    color='Yearly_Spent',\n",
    "    opacity= .70,\n",
    "    title= '<b>Relationships Between Numerical Data',\n",
    "    template= 'plotly_dark'\n",
    ")\n",
    "\n",
    "fig.update_layout(\n",
    "    title= {\n",
    "        'font' : {\n",
    "            'size' : 28,\n",
    "            'family' : '<b>poppins',\n",
    "            'color' : 'tomato'\n",
    "        }\n",
    "    }\n",
    ")\n",
    "\n",
    "iplot(fig)"
   ]
  },
  {
   "cell_type": "markdown",
   "metadata": {},
   "source": [
    "__There is no correlation between `Yearly_Spent`and `Website_Usage`time__"
   ]
  },
  {
   "cell_type": "markdown",
   "metadata": {},
   "source": [
    "### __Multiple Linear Regression Equation__"
   ]
  },
  {
   "cell_type": "code",
   "execution_count": null,
   "id": "01HXXN8YS95FBN6J5N7XNS8RQ1",
   "metadata": {},
   "outputs": [],
   "source": [
    "X = df.iloc[:, 3:7]\n",
    "y = df.iloc[:, 7:8]"
   ]
  },
  {
   "cell_type": "code",
   "execution_count": null,
   "id": "01HXXND29TPZXAQF0SW401D9GK",
   "metadata": {},
   "outputs": [],
   "source": [
    "X_train, X_test, y_train, y_test = train_test_split(X, y, test_size=.20, random_state=38)"
   ]
  },
  {
   "cell_type": "code",
   "execution_count": null,
   "id": "01HXXNECTTE5GANA65E8K0Z598",
   "metadata": {},
   "outputs": [],
   "source": [
    "X_train.head()"
   ]
  },
  {
   "cell_type": "markdown",
   "metadata": {},
   "source": [
    "### __Build the Model__"
   ]
  },
  {
   "cell_type": "code",
   "execution_count": null,
   "id": "01HXXSCJR6EDZE0PBDA7Z0G3BD",
   "metadata": {},
   "outputs": [],
   "source": [
    "model = linear_model.LinearRegression()"
   ]
  },
  {
   "cell_type": "code",
   "execution_count": null,
   "id": "01HXXXPNDRG74W4HR6K3ES8117",
   "metadata": {},
   "outputs": [],
   "source": [
    "kf = KFold(n_splits=25, shuffle=True, random_state=99)\n",
    "scores = cross_val_score(model, X, y, cv=kf)\n",
    "print(f'Model Score: {np.mean(scores) * 100:.2f}%')"
   ]
  },
  {
   "cell_type": "code",
   "execution_count": null,
   "id": "01HXXSCXD83VXCDRC69VMSWEKN",
   "metadata": {},
   "outputs": [],
   "source": [
    "model.fit(X_train, y_train)"
   ]
  },
  {
   "cell_type": "code",
   "execution_count": null,
   "id": "01HXXSDHEGZTBC2VYYNBBB5HY8",
   "metadata": {},
   "outputs": [],
   "source": [
    "train_score = model.score(X_train, y_train)\n",
    "print(f'Train Score: {train_score * 100:.2f}%')"
   ]
  },
  {
   "cell_type": "markdown",
   "metadata": {},
   "source": [
    "### __Predict the Data__"
   ]
  },
  {
   "cell_type": "code",
   "execution_count": null,
   "id": "01HXXST1Z6Z5JTRWNDBW6V4D3H",
   "metadata": {},
   "outputs": [],
   "source": [
    "predicts = model.predict(X_test).reshape(-1)"
   ]
  },
  {
   "cell_type": "code",
   "execution_count": null,
   "id": "01HXXTA046V00XZWAVW1KKW64X",
   "metadata": {},
   "outputs": [],
   "source": [
    "test_score = r2_score(y_test, predicts)\n",
    "print(f'Test Score: {test_score * 100:.2f}%')"
   ]
  },
  {
   "cell_type": "code",
   "execution_count": null,
   "id": "01HXXTAVARM5HFH23076NM3QYA",
   "metadata": {},
   "outputs": [],
   "source": [
    "error_ratio = mean_absolute_error(y_test, predicts)\n",
    "print(f'Error Ratio: {error_ratio:.2f}')"
   ]
  },
  {
   "cell_type": "code",
   "execution_count": null,
   "id": "01HXXTDV1ZYM881AV8RXPCBJKW",
   "metadata": {},
   "outputs": [],
   "source": [
    "predicted_df = pd.DataFrame({\n",
    "    'Actual_Yearly_Spent':y_test.values.flatten(),\n",
    "    'Predicted_Yearly_Spent':predicts})\n",
    "predicted_df.head()"
   ]
  },
  {
   "cell_type": "code",
   "execution_count": null,
   "id": "01HXXY988MV3BZ3EAH3JGQG8P8",
   "metadata": {},
   "outputs": [],
   "source": [
    "fig = px.scatter(\n",
    "    data_frame= predicted_df,\n",
    "    x= 'Predicted_Yearly_Spent',\n",
    "    y= 'Actual_Yearly_Spent',\n",
    "    color= predicted_df['Predicted_Yearly_Spent'] - predicted_df['Actual_Yearly_Spent'],\n",
    "    opacity= .8,\n",
    "    title= '<b>Predicted vs. Actual',\n",
    "    template= 'plotly_dark',\n",
    "    trendline= 'ols'\n",
    ")\n",
    "\n",
    "fig.update_layout(\n",
    "    title = {\n",
    "        'font' : {\n",
    "            'size' : 28,\n",
    "            'family' : '<b>poppins',\n",
    "            'color' : 'tomato'\n",
    "        }\n",
    "    }\n",
    ")\n",
    "iplot(fig)"
   ]
  },
  {
   "cell_type": "markdown",
   "metadata": {},
   "source": [
    "### __Conclusion__\n",
    "* Cross Validation Score: 98.25%\n",
    "* Train Score: 98.46%\n",
    "* Test Score: 98.27%"
   ]
  },
  {
   "cell_type": "code",
   "execution_count": null,
   "id": "01HXZJQ7R0AKDD10WYJNY1VTCS",
   "metadata": {},
   "outputs": [],
   "source": [
    "theta = model.coef_.flatten()\n",
    "print(f'Independent Feature\\t Coefficient'.expandtabs(25))\n",
    "print('='*37)\n",
    "for i in range(X_train.shape[1]):\n",
    "    print(f'{X_train.columns[i]}\\t{theta[i]:.2f}'.expandtabs(25))"
   ]
  },
  {
   "cell_type": "markdown",
   "metadata": {},
   "source": [
    "### **Conclusion**\n",
    "\n",
    "* __Cross Validation Score: 98.25%__\n",
    "* __Train Score: 98.46%__\n",
    "* __Test Score: 98.27%__\n",
    "\n",
    "### **Insights based on Output**\n",
    "\n",
    "1. **High Model Accuracy:**\n",
    "   - The model used for predicting customer spending is highly accurate. With cross-validation, training, and testing scores all above 98%, we can be confident that the model reliably predicts how much customers are likely to spend annually.\n",
    "\n",
    "2. **Key Influencers on Customer Spending:**\n",
    "   - **Average Session Length (Coefficient: 25.45):** This feature has a significant positive impact on customer spending. Longer average session lengths suggest that customers who spend more time on the platform tend to spend more money. This could imply that improving user engagement can directly boost sales.\n",
    "   - **App Usage (Coefficient: 38.79):** App usage is a crucial factor. Customers who spend more time on the app tend to spend significantly more. This highlights the importance of enhancing the app experience to encourage higher usage and, consequently, higher spending.\n",
    "   - **Website Usage (Coefficient: 0.22):** Website usage has a minimal impact on spending compared to other features. This suggests that while website presence is necessary, it does not drive customer spending as much as app usage or session length.\n",
    "   - **Length of Membership (Coefficient: 61.49):** The length of membership is the most influential factor. Longer membership durations lead to higher spending, indicating that customer loyalty programs and retention strategies are highly effective. Encouraging long-term membership can significantly boost revenue.\n",
    "\n",
    "### **Actionable Recommendations:**\n",
    "\n",
    "1. **Enhance User Engagement:**\n",
    "   - Invest in features and content that encourage users to spend more time on the platform, especially focusing on the app. Interactive features, personalized content, and seamless user experience can help increase session length and app usage.\n",
    "\n",
    "2. **Focus on Mobile App Development:**\n",
    "   - Given the high impact of app usage on spending, prioritize improvements and innovations in the mobile app. This could include new functionalities, better user interface design, and regular updates to keep the app engaging and user-friendly.\n",
    "\n",
    "3. **Strengthen Loyalty Programs:**\n",
    "   - Develop and enhance loyalty programs that reward long-term membership. Offer exclusive benefits, discounts, and rewards to encourage customers to stay longer with the platform, as this has the highest impact on spending.\n",
    "\n",
    "4. **Monitor and Adapt Website Strategy:**\n",
    "   - While website usage has a lower impact, it should not be neglected. Ensure the website is user-friendly and complements the app experience. Use the website to drive users to the app where possible, as it is the primary driver of spending.\n",
    "\n",
    "By understanding these insights and implementing the recommendations, stakeholders can effectively leverage the data to drive customer spending and improve overall business performance."
   ]
  },
  {
   "cell_type": "markdown",
   "metadata": {},
   "source": []
  }
 ],
 "metadata": {
  "kernelspec": {
   "display_name": "Python 3",
   "language": "python",
   "name": "python3"
  },
  "language_info": {
   "codemirror_mode": {
    "name": "ipython",
    "version": 3
   },
   "file_extension": ".py",
   "mimetype": "text/x-python",
   "name": "python",
   "nbconvert_exporter": "python",
   "pygments_lexer": "ipython3",
   "version": "3.11.7"
  }
 },
 "nbformat": 4,
 "nbformat_minor": 2
}
